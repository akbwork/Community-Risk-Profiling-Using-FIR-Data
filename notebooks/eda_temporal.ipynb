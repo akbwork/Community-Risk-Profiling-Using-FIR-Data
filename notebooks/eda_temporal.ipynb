{
 "cells": [
  {
   "cell_type": "markdown",
   "id": "9e8f25b0",
   "metadata": {},
   "source": [
    "# Documentation and Workflow Description\n",
    "\n",
    "- Seasonality, hourly distribution (if timestamp data exists)\n"
   ]
  },
  {
   "cell_type": "markdown",
   "id": "551763ba",
   "metadata": {},
   "source": []
  }
 ],
 "metadata": {
  "language_info": {
   "name": "python"
  }
 },
 "nbformat": 4,
 "nbformat_minor": 5
}
