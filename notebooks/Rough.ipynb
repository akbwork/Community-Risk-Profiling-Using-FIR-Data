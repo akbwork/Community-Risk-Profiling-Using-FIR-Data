{
 "cells": [
  {
   "cell_type": "markdown",
   "id": "152196a7",
   "metadata": {},
   "source": [
    "#### Machine Learning Model"
   ]
  },
  {
   "cell_type": "code",
   "execution_count": 1,
   "id": "ec3f6a78",
   "metadata": {},
   "outputs": [],
   "source": [
    "import pandas as pd\n",
    "\n",
    "# Load Dataset\n",
    "df_2001_2012 = pd.read_csv('/Users/ananthakrishnab/Desktop/Projects/Community Risk Profiling Using FIR Data/dataset/State-wise data from 2001 is classified according to 40+factors/crime/crime/01_District_wise_crimes_committed_IPC_2001_2012.csv')\n",
    "df_2013 = pd.read_csv('/Users/ananthakrishnab/Desktop/Projects/Community Risk Profiling Using FIR Data/dataset/State-wise data from 2001 is classified according to 40+factors/crime/crime/01_District_wise_crimes_committed_IPC_2013.csv')"
   ]
  },
  {
   "cell_type": "code",
   "execution_count": 2,
   "id": "44b8a47b",
   "metadata": {},
   "outputs": [],
   "source": [
    "# Combine them into one\n",
    "df_all_years = pd.concat([df_2001_2012, df_2013], ignore_index=True)\n",
    "\n",
    "# Standardize column names\n",
    "df_all_years.columns = df_all_years.columns.str.strip() # Remove leading/trailing whitespace"
   ]
  },
  {
   "cell_type": "code",
   "execution_count": 3,
   "id": "2be75214",
   "metadata": {},
   "outputs": [],
   "source": [
    "# Importing dataset with time details (/Users/ananthakrishnab/Desktop/Projects/Community Risk Profiling Using FIR Data/dataset/Detailed crime data from various cities in India for the year 2023/crime_dataset_india_2023.csv)\n",
    "df_time = pd.read_csv('/Users/ananthakrishnab/Desktop/Projects/Community Risk Profiling Using FIR Data/dataset/Detailed crime data from various cities in India for the year 2023/crime_dataset_india_2023.csv')\n"
   ]
  },
  {
   "cell_type": "code",
   "execution_count": 8,
   "id": "43b4c80f",
   "metadata": {},
   "outputs": [
    {
     "data": {
      "text/plain": [
       "Index(['Report Number', 'Date Reported', 'Date of Occurrence',\n",
       "       'Time of Occurrence', 'City', 'Crime Code', 'Crime Description',\n",
       "       'Victim Age', 'Victim Gender', 'Weapon Used', 'Crime Domain',\n",
       "       'Police Deployed', 'Case Closed', 'Date Case Closed'],\n",
       "      dtype='object')"
      ]
     },
     "execution_count": 8,
     "metadata": {},
     "output_type": "execute_result"
    }
   ],
   "source": [
    "df_time.columns"
   ]
  },
  {
   "cell_type": "code",
   "execution_count": 6,
   "id": "fc44386f",
   "metadata": {},
   "outputs": [
    {
     "data": {
      "text/plain": [
       "Index(['STATE/UT', 'DISTRICT', 'YEAR', 'MURDER', 'ATTEMPT TO MURDER',\n",
       "       'CULPABLE HOMICIDE NOT AMOUNTING TO MURDER', 'RAPE', 'CUSTODIAL RAPE',\n",
       "       'OTHER RAPE', 'KIDNAPPING & ABDUCTION',\n",
       "       'KIDNAPPING AND ABDUCTION OF WOMEN AND GIRLS',\n",
       "       'KIDNAPPING AND ABDUCTION OF OTHERS', 'DACOITY',\n",
       "       'PREPARATION AND ASSEMBLY FOR DACOITY', 'ROBBERY', 'BURGLARY', 'THEFT',\n",
       "       'AUTO THEFT', 'OTHER THEFT', 'RIOTS', 'CRIMINAL BREACH OF TRUST',\n",
       "       'CHEATING', 'COUNTERFIETING', 'ARSON', 'HURT/GREVIOUS HURT',\n",
       "       'DOWRY DEATHS', 'ASSAULT ON WOMEN WITH INTENT TO OUTRAGE HER MODESTY',\n",
       "       'INSULT TO MODESTY OF WOMEN', 'CRUELTY BY HUSBAND OR HIS RELATIVES',\n",
       "       'IMPORTATION OF GIRLS FROM FOREIGN COUNTRIES',\n",
       "       'CAUSING DEATH BY NEGLIGENCE', 'OTHER IPC CRIMES', 'TOTAL IPC CRIMES'],\n",
       "      dtype='object')"
      ]
     },
     "execution_count": 6,
     "metadata": {},
     "output_type": "execute_result"
    }
   ],
   "source": [
    "df_all_years.columns"
   ]
  },
  {
   "cell_type": "code",
   "execution_count": null,
   "id": "0bf6bf76",
   "metadata": {},
   "outputs": [],
   "source": []
  }
 ],
 "metadata": {
  "kernelspec": {
   "display_name": "Python 3",
   "language": "python",
   "name": "python3"
  },
  "language_info": {
   "codemirror_mode": {
    "name": "ipython",
    "version": 3
   },
   "file_extension": ".py",
   "mimetype": "text/x-python",
   "name": "python",
   "nbconvert_exporter": "python",
   "pygments_lexer": "ipython3",
   "version": "3.11.11"
  }
 },
 "nbformat": 4,
 "nbformat_minor": 5
}
