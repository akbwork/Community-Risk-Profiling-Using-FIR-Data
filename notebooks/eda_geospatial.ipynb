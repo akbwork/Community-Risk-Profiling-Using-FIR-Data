{
 "cells": [
  {
   "cell_type": "markdown",
   "id": "0118665b",
   "metadata": {},
   "source": [
    "# Exploratory Data Analysis: Geospatial Crime Mapping\n",
    "\n",
    "- State/district crime mapping\n"
   ]
  },
  {
   "cell_type": "markdown",
   "id": "4237c2d6",
   "metadata": {},
   "source": [
    "### Geospatial Risk Mapping Using FIR Data\n",
    "\n",
    "#### Objective\n",
    "\n",
    "- Geospatial Risk Mapping: Utilize geographic information from FIRs to create detailed maps highlighting high-risk areas, aiding in targeted law enforcement and resource allocation.\n",
    "\n",
    "\n",
    "#### Analysis of Crime Data (2001-2014)\n",
    "\n",
    "In this notebook, we will analyze crime data from 2001 to 2014 to identify spatial and temporal trends in criminal activities. The datasets include:\n",
    "\n",
    "1. `01_District_wise_crimes_committed_IPC_2001_2012.csv`\n",
    "2. `05_State_UT_wise_crimes_committed_2001_2012.csv`\n",
    "3. `42_District_wise_crimes_committed_against_women_2001_2012.csv`\n",
    "\n"
   ]
  },
  {
   "cell_type": "markdown",
   "id": "d10d1229",
   "metadata": {},
   "source": [
    "## Dataset Overview\n",
    "\n",
    "| **Dataset**                                      | **Usefulness**                                                                 | **Pros**                                                                                     | **Cons**                                   |\n",
    "|--------------------------------------------------|--------------------------------------------------------------------------------|---------------------------------------------------------------------------------------------|-------------------------------------------|\n",
    "| `01_District_wise_crimes_committed_IPC_2001_2012.csv` | ⭐⭐⭐⭐⭐ High spatial resolution (district level), IPC crimes, multi-year          | Detailed district-level data for granular analysis                                          | Requires district boundaries (GeoJSON)    |\n",
    "| `05_State_UT_wise_crimes_committed_2001_2012.csv` | ⭐⭐⭐⭐ Easier for quick mapping (state level), complete IPC/SLL overview          | Simpler for state-level analysis and visualization                                          | Less granular                             |\n",
    "| `42_District_wise_crimes_committed_against_women_2001_2012.csv` | ⭐⭐⭐ Focused category (e.g., crimes against women)                               | Useful for analyzing specific crime categories                                              | Limited to specific crime types           |\n"
   ]
  },
  {
   "cell_type": "markdown",
   "id": "0decaacd",
   "metadata": {},
   "source": [
    "## Analysis\n",
    "\n",
    "-  `01_District_wise_crimes_committed_IPC_2001_2012.csv`** for detailed district-level heatmaps to analyze granular crime trends.\n",
    "- `05_State_UT_wise_crimes_committed_2001_2012.csv`** for simpler state-level heatmaps as a fallback or for an overview.\n",
    "- `42_District_wise_crimes_committed_against_women_2001_2012.csv`** to focus on crimes against women and identify high-risk areas for targeted interventions."
   ]
  },
  {
   "cell_type": "markdown",
   "id": "3c845841",
   "metadata": {},
   "source": [
    "#### **Notebook Structure**\n",
    "\n",
    "1. Introduction\n",
    "2. Dataset Description\n",
    "3. Data Preprocessing\n",
    "4. Exploratory Analysis\n",
    "    - Aggregate total IPC crimes per district over all years\n",
    "    - \n",
    "    - \n",
    "    - \n",
    "5. Key Insights"
   ]
  },
  {
   "cell_type": "code",
   "execution_count": null,
   "id": "14903143",
   "metadata": {},
   "outputs": [],
   "source": [
    "from pathlib import Path\n",
    "import pandas as pd\n",
    "\n",
    "root = Path().resolve().parent\n",
    "df_2001_2012 = pd.read_csv(root / 'dataset/State-wise data from 2001 is classified according to 40+factors/crime/crime/01_District_wise_crimes_committed_IPC_2001_2012.csv')\n",
    "df_2013 = pd.read_csv(root / 'dataset/State-wise data from 2001 is classified according to 40+factors/crime/crime/01_District_wise_crimes_committed_IPC_2013.csv')"
   ]
  },
  {
   "cell_type": "markdown",
   "id": "c55fd2a1",
   "metadata": {},
   "source": [
    "### Preprocessing"
   ]
  },
  {
   "cell_type": "code",
   "execution_count": null,
   "id": "732f0a38",
   "metadata": {},
   "outputs": [],
   "source": [
    "import pandas as pd\n",
    "\n",
    "# Load Dataset\n",
    "df_2001_2012 = pd.read_csv('/Users/ananthakrishnab/Desktop/Projects/Community Risk Profiling Using FIR Data/dataset/State-wise data from 2001 is classified according to 40+factors/crime/crime/01_District_wise_crimes_committed_IPC_2001_2012.csv')\n",
    "df_2013 = pd.read_csv('/Users/ananthakrishnab/Desktop/Projects/Community Risk Profiling Using FIR Data/dataset/State-wise data from 2001 is classified according to 40+factors/crime/crime/01_District_wise_crimes_committed_IPC_2013.csv')"
   ]
  },
  {
   "cell_type": "code",
   "execution_count": null,
   "id": "451f2fa2",
   "metadata": {},
   "outputs": [],
   "source": [
    "# Combine them into one\n",
    "df_all_years = pd.concat([df_2001_2012, df_2013], ignore_index=True)\n",
    "\n",
    "# Standardize column names\n",
    "df_all_years.columns = df_all_years.columns.str.strip() # Remove leading/trailing whitespace"
   ]
  },
  {
   "cell_type": "code",
   "execution_count": null,
   "id": "5df1868f",
   "metadata": {},
   "outputs": [],
   "source": [
    "# View the first few rows of the combined DataFrame\n",
    "df_all_years.head()"
   ]
  },
  {
   "cell_type": "code",
   "execution_count": null,
   "id": "9c5d560d",
   "metadata": {},
   "outputs": [],
   "source": [
    "# Check for nulls\n",
    "df_all_years.isnull().sum()"
   ]
  },
  {
   "cell_type": "code",
   "execution_count": null,
   "id": "5e437773",
   "metadata": {},
   "outputs": [],
   "source": []
  },
  {
   "cell_type": "code",
   "execution_count": null,
   "id": "0f392216",
   "metadata": {},
   "outputs": [],
   "source": [
    "# Columns\n",
    "columns = df_all_years.columns.tolist()\n",
    "print(columns)"
   ]
  },
  {
   "cell_type": "code",
   "execution_count": null,
   "id": "9ea3606a",
   "metadata": {},
   "outputs": [],
   "source": [
    "# Aggregate total IPC crimes per district over all years\n",
    "crime_totals = df_all_years.groupby(['STATE/UT', 'DISTRICT'])['TOTAL IPC CRIMES'].sum().reset_index()\n",
    "crime_totals.rename(columns={'TOTAL IPC CRIMES': 'Total_Crimes'}, inplace=True)\n",
    "\n",
    "# Result\n",
    "crime_totals.head()"
   ]
  },
  {
   "cell_type": "code",
   "execution_count": null,
   "id": "c818fef6",
   "metadata": {},
   "outputs": [],
   "source": [
    "# Name of all the districts\n",
    "districts = crime_totals['DISTRICT'].unique()\n",
    "print(\"Number of unique districts:\", len(districts))\n",
    "\n",
    "# List of all the districts\n",
    "districts_list = districts.tolist()\n",
    "districts_list"
   ]
  },
  {
   "cell_type": "code",
   "execution_count": null,
   "id": "270b9690",
   "metadata": {},
   "outputs": [],
   "source": [
    "# Removing districts that are not valid\n",
    "invalid_districts = [\n",
    "    # 🚫 Clearly Invalid Entries\n",
    "    'A AND N ISLANDS', 'ANDAMAN', 'CAR', 'NICOBAR', 'TOTAL', 'ZZ TOTAL', 'DELHI UT TOTAL',\n",
    "    'G.R.P.', 'G.R.P.(RLY)', 'GRP', 'GRP(RLY)', 'GRP RAIPUR',\n",
    "    'RAILWAYS', 'RAILWAYS JAMMU', 'RAILWAYS KASHMIR', 'RAILWAYS KATRA', 'RAILWAYS KMR',\n",
    "    'W.RLY', 'W.RLY AHMEDABAD', 'W.RLY VADODARA',\n",
    "    'METRO RAIL', 'IGI AIRPORT', 'I.G.I. AIRPORT',\n",
    "    'S.T.F.', 'STF',\n",
    "    'CID', 'CID CRIME', 'CBCID', 'CRIME BRANCH', 'CRIME JAMMU', 'CRIME KASHMIR', 'CRIME SRINAGAR',\n",
    "    'EOW', 'SPL CELL', 'CAW', 'SPL NARCOTIC', 'C.I.D.', 'R.P.O.',\n",
    "    'DCP BBSR', 'DCP CTC', 'SRP(CUTTACK)', 'SRP(ROURKELA)',\n",
    "    'TRAFFIC PS', 'I&P HARYANA',\n",
    "\n",
    "    # ⚠️ RLY & Urban-specific Names\n",
    "    'JAMALPUR RLY.', 'MUZAFFARPUR RLY.', 'PATNA RLY.',\n",
    "    'BHOPAL RLY.', 'INDORE RLY.', 'JABALPUR RLY.',\n",
    "    'DHANBAD RLY.', 'JAMSHEDPUR RLY.',\n",
    "    'VIJAYAWADA RLY.', 'SECUNDERABAD RLY.',\n",
    "    'MUMBAI RLY.', 'NAGPUR RLY.', 'PUNE RLY.',\n",
    "    'MYSORE RURAL', 'ERNAKULAM COMMR.', 'KOLLAM COMMR.', 'THRISSUR COMMR.',\n",
    "\n",
    "    # 🧾 Commissariats & Zones\n",
    "    'BANGALORE COMMR.', 'BANGALORE RURAL',\n",
    "    'MUMBAI COMMR.', 'NAGPUR COMMR.', 'NAGPUR RURAL',\n",
    "    'PUNE COMMR.', 'PUNE RURAL',\n",
    "    'THANE COMMR.', 'THANE RURAL',\n",
    "    'SURAT COMMR.', 'SURAT RURAL',\n",
    "    'RAJKOT COMMR.', 'RAJKOT RURAL',\n",
    "    'VADODARA COMMR.', 'VADODARA RURAL',\n",
    "    'CP AMRITSAR', 'CP LUDHIANA', 'CP JALANDHAR',\n",
    "\n",
    "    # 🧐 Ambiguous/Obsolete Names\n",
    "    'N.C.HILLS', 'K/KUMEY', 'G.R.P', 'GARO HILLS NORTH', 'GARO HILLS SOUTH W.',\n",
    "    \n",
    "    # Directional (catch via regex below too)\n",
    "    'NORTH', 'SOUTH', 'EAST', 'WEST', 'CENTRAL', 'OUTER', 'NORTH-EAST', 'SOUTH-WEST'\n",
    "]\n",
    "\n",
    "# Drop rows where DISTRICT is in the invalid list\n",
    "df_cleaned = df_all_years[~df_all_years['DISTRICT'].isin(invalid_districts)].reset_index(drop=True)"
   ]
  },
  {
   "cell_type": "code",
   "execution_count": null,
   "id": "3dc183b2",
   "metadata": {},
   "outputs": [],
   "source": [
    "df_cleaned.columns"
   ]
  },
  {
   "cell_type": "code",
   "execution_count": null,
   "id": "d0742b78",
   "metadata": {},
   "outputs": [],
   "source": [
    "df_cleaned.dtypes"
   ]
  },
  {
   "cell_type": "markdown",
   "id": "9decef3c",
   "metadata": {},
   "source": [
    "#### Visualisation of data"
   ]
  },
  {
   "cell_type": "code",
   "execution_count": null,
   "id": "2983f43b",
   "metadata": {},
   "outputs": [],
   "source": [
    "import matplotlib.pyplot as plt\n",
    "import seaborn as sns\n",
    "\n",
    "# 🔹 1. Top 10 States by Total IPC Crimes (2001–2014) using df_cleaned\n",
    "state_crime = df_cleaned.groupby('STATE/UT')['TOTAL IPC CRIMES'].sum().sort_values(ascending=False).head(10)\n",
    "\n",
    "plt.figure(figsize=(12, 6))\n",
    "sns.barplot(x=state_crime.values, y=state_crime.index, palette=\"Reds_r\")\n",
    "plt.title(\"Top 10 States by Total IPC Crimes (2001–2014)\")\n",
    "plt.xlabel(\"Total Crimes\")\n",
    "plt.ylabel(\"State/UT\")\n",
    "plt.tight_layout()\n",
    "plt.show()"
   ]
  },
  {
   "cell_type": "code",
   "execution_count": null,
   "id": "e4ff1946",
   "metadata": {},
   "outputs": [],
   "source": [
    "# 🔹 2. Top 10 Districts by Total IPC Crimes (2001–2014)\n",
    "district_crime = df_cleaned.groupby('DISTRICT')['TOTAL IPC CRIMES'].sum().sort_values(ascending=False).head(10)\n",
    "\n",
    "plt.figure(figsize=(12, 6))\n",
    "sns.barplot(x=district_crime.values, y=district_crime.index, palette=\"Blues_r\")\n",
    "plt.title(\"Top 10 Districts by Total IPC Crimes (2001–2014)\")\n",
    "plt.xlabel(\"Total Crimes\")\n",
    "plt.ylabel(\"District\")\n",
    "plt.tight_layout()\n",
    "plt.show()"
   ]
  },
  {
   "cell_type": "code",
   "execution_count": null,
   "id": "3c6e83ac",
   "metadata": {},
   "outputs": [],
   "source": [
    "# Yearly trend of total IPC crimes\n",
    "\n",
    "yearly_trend = df_cleaned.groupby('YEAR')['TOTAL IPC CRIMES'].sum()\n",
    "\n",
    "plt.figure(figsize=(10, 5))\n",
    "sns.lineplot(x=yearly_trend.index, y=yearly_trend.values, marker=\"o\", color='darkred')\n",
    "plt.title(\"Total IPC Crimes Over Years\")\n",
    "plt.xlabel(\"Year\")\n",
    "plt.ylabel(\"Total Crimes\")\n",
    "plt.grid(True)\n",
    "plt.tight_layout()\n",
    "plt.show()"
   ]
  },
  {
   "cell_type": "code",
   "execution_count": null,
   "id": "04856f6b",
   "metadata": {},
   "outputs": [],
   "source": [
    "# Top 8 Crimes in the dataset\n",
    "crime_types = df_cleaned.columns[4:-1]  # Exclude non-crime columns\n",
    "crime_totals = df_cleaned[crime_types].sum().sort_values(ascending=False).head(8)\n",
    "\n",
    "# Plot as a pie chart\n",
    "plt.figure(figsize=(8, 8))\n",
    "crime_totals.plot.pie(autopct='%1.1f%%', startangle=140, cmap=\"viridis\", legend=False)\n",
    "plt.title(\"Top 8 Crimes in the Dataset\")\n",
    "plt.ylabel(\"\")  # Remove y-axis label for better aesthetics\n",
    "plt.tight_layout()\n",
    "plt.show()"
   ]
  },
  {
   "cell_type": "code",
   "execution_count": null,
   "id": "d4d665c7",
   "metadata": {},
   "outputs": [],
   "source": [
    "# Heinous Crimes (States)\n",
    "\n",
    "heinous_cols = ['MURDER', 'RAPE', 'DACOITY', 'KIDNAPPING & ABDUCTION', 'ROBBERY']\n",
    "df_cleaned['HEINOUS_TOTAL'] = df_cleaned[heinous_cols].sum(axis=1)\n",
    "\n",
    "heinous_state = df_cleaned.groupby('STATE/UT')['HEINOUS_TOTAL'].sum().sort_values(ascending=False).head(10)\n",
    "\n",
    "plt.figure(figsize=(10, 6))\n",
    "sns.barplot(x=heinous_state.values, y=heinous_state.index, palette='magma')\n",
    "plt.title(\"Top 10 States with Highest Heinous Crimes\")\n",
    "plt.xlabel(\"Total Heinous Crimes\")\n",
    "plt.ylabel(\"State/UT\")\n",
    "plt.tight_layout()\n",
    "plt.show()"
   ]
  },
  {
   "cell_type": "code",
   "execution_count": null,
   "id": "01cd46cd",
   "metadata": {},
   "outputs": [],
   "source": [
    "# Petty Crimes \n",
    "\n",
    "petty_cols = ['THEFT', 'BURGLARY', 'CHEATING', 'COUNTERFIETING']\n",
    "df_cleaned['PETTY_TOTAL'] = df_cleaned[petty_cols].sum(axis=1)\n",
    "\n",
    "petty_state = df_cleaned.groupby('STATE/UT')['PETTY_TOTAL'].sum().sort_values(ascending=False).head(10)\n",
    "\n",
    "plt.figure(figsize=(10, 6))\n",
    "sns.barplot(x=petty_state.values, y=petty_state.index, palette='coolwarm')\n",
    "plt.title(\"Top 10 States with Highest Petty Crimes\")\n",
    "plt.xlabel(\"Total Petty Crimes\")\n",
    "plt.ylabel(\"State/UT\")\n",
    "plt.tight_layout()\n",
    "plt.show()"
   ]
  },
  {
   "cell_type": "code",
   "execution_count": null,
   "id": "ef15fc5c",
   "metadata": {},
   "outputs": [],
   "source": [
    "# # Drop conflicting columns from district_map before merging\n",
    "# district_map = district_map.drop(columns=['HEINOUS_TOTAL', 'PETTY_TOTAL'], errors='ignore')\n",
    "\n",
    "# # Perform the merge\n",
    "# district_map = district_map.merge(\n",
    "#     df_cleaned.groupby(['STATE/UT', 'DISTRICT'])[['HEINOUS_TOTAL', 'PETTY_TOTAL']].sum().reset_index(),\n",
    "#     on=['STATE/UT', 'DISTRICT'],\n",
    "#     how='left'\n",
    "# )"
   ]
  },
  {
   "cell_type": "code",
   "execution_count": null,
   "id": "bd8083aa",
   "metadata": {},
   "outputs": [],
   "source": [
    "import geopandas as gpd\n",
    "\n",
    "# Load the composite GeoJSON\n",
    "district_geo = gpd.read_file(\"/Users/ananthakrishnab/Downloads/india_district.geojson\")\n",
    "\n",
    "# Explore columns\n",
    "print(district_geo.columns)\n",
    "district_geo.head()"
   ]
  },
  {
   "cell_type": "code",
   "execution_count": null,
   "id": "9a7f2650",
   "metadata": {},
   "outputs": [],
   "source": [
    "print(district_geo[['NAME_1', 'NAME_2', 'TYPE_2']].head())\n"
   ]
  },
  {
   "cell_type": "code",
   "execution_count": null,
   "id": "53b5cbe6",
   "metadata": {},
   "outputs": [],
   "source": [
    "# Uppercase and strip whitespaces\n",
    "district_geo['DISTRICT'] = district_geo['NAME_2'].str.upper().str.strip()\n",
    "crime_totals['DISTRICT'] = crime_totals['DISTRICT'].str.upper().str.strip()"
   ]
  },
  {
   "cell_type": "code",
   "execution_count": null,
   "id": "41e47ae8",
   "metadata": {},
   "outputs": [],
   "source": [
    "print(crime_totals.columns)"
   ]
  },
  {
   "cell_type": "code",
   "execution_count": null,
   "id": "9333d07a",
   "metadata": {},
   "outputs": [],
   "source": [
    "district_map = district_geo.merge(crime_totals, on='DISTRICT', how='left')"
   ]
  },
  {
   "cell_type": "code",
   "execution_count": null,
   "id": "7aceaaac",
   "metadata": {},
   "outputs": [],
   "source": [
    "district_map.head()"
   ]
  },
  {
   "cell_type": "code",
   "execution_count": null,
   "id": "1e3430f1",
   "metadata": {},
   "outputs": [],
   "source": [
    "district_map.columns"
   ]
  },
  {
   "cell_type": "code",
   "execution_count": null,
   "id": "5d1dcb03",
   "metadata": {},
   "outputs": [],
   "source": [
    "print(district_map[['DISTRICT', 'Total_Crimes']].dropna().head(10))\n",
    "print(\"***************************\" * 2)\n",
    "print(district_map['Total_Crimes'].isna().sum(), \"districts have missing crime data\")"
   ]
  },
  {
   "cell_type": "code",
   "execution_count": null,
   "id": "c812d44d",
   "metadata": {},
   "outputs": [],
   "source": [
    "district_map.head()"
   ]
  },
  {
   "cell_type": "code",
   "execution_count": null,
   "id": "8fb3397d",
   "metadata": {},
   "outputs": [],
   "source": [
    "# Dropping unnecessary columns\n",
    "district_map = district_map.drop(columns=['NAME_1', 'NAME_2', 'TYPE_2'], errors='ignore')"
   ]
  },
  {
   "cell_type": "code",
   "execution_count": null,
   "id": "63fddcf0",
   "metadata": {},
   "outputs": [],
   "source": [
    "# Checking the missing values \n",
    "district_map.isna().sum()"
   ]
  },
  {
   "cell_type": "code",
   "execution_count": null,
   "id": "6414311b",
   "metadata": {},
   "outputs": [],
   "source": [
    "# Counting the number of rows in district_map\n",
    "print(\"Number of rows in district_map:\", len(district_map))"
   ]
  },
  {
   "cell_type": "code",
   "execution_count": null,
   "id": "4fcf7b98",
   "metadata": {},
   "outputs": [],
   "source": [
    "# Remvoing rows with missing values in district_map\n",
    "district_map = district_map[district_map['Total_Crimes'].notna()]\n",
    "print(\"Number of rows in district_map after removing missing values:\", len(district_map))"
   ]
  },
  {
   "cell_type": "code",
   "execution_count": null,
   "id": "852bcc64",
   "metadata": {},
   "outputs": [],
   "source": [
    "import warnings\n",
    "\n",
    "warnings.filterwarnings(\"ignore\")\n",
    "\n",
    "# Get the top 5 districts based on total crimes\n",
    "top_5_districts = district_map.nlargest(5, 'Total_Crimes')\n",
    "\n",
    "# Display the names of the top 5 districts\n",
    "print(\"Top 5 Districts by Total Crimes:\")\n",
    "print(top_5_districts[['DISTRICT', 'Total_Crimes']])\n",
    "\n",
    "# Plot the map with the top 5 districts highlighted\n",
    "fig, ax = plt.subplots(1, 1, figsize=(12, 12))\n",
    "district_map.plot(column='Total_Crimes', cmap='Reds', linewidth=0.8, ax=ax, edgecolor='0.8', legend=True)\n",
    "\n",
    "# Annotate the top 5 districts on the map\n",
    "for _, row in top_5_districts.iterrows():\n",
    "    district_name = row['DISTRICT']\n",
    "    total_crimes = row['Total_Crimes']\n",
    "    district_geometry = district_map[district_map['DISTRICT'] == district_name].geometry\n",
    "    if not district_geometry.empty:\n",
    "        centroid = district_geometry.centroid.iloc[0]\n",
    "        ax.text(centroid.x, centroid.y, f\"{district_name}\\n{total_crimes}\", fontsize=8, color='blue')\n",
    "\n",
    "ax.set_title('Total IPC Crimes by District (Top 5 Highlighted)')\n",
    "ax.axis('off')\n",
    "plt.show()"
   ]
  },
  {
   "cell_type": "code",
   "execution_count": null,
   "id": "1908ce6d",
   "metadata": {},
   "outputs": [],
   "source": [
    "top_5_districts"
   ]
  },
  {
   "cell_type": "code",
   "execution_count": null,
   "id": "1947cd2f",
   "metadata": {},
   "outputs": [],
   "source": [
    "# import plotly.express as px\n",
    "\n",
    "# # Make sure your GeoDataFrame has the crime data and district names\n",
    "# fig = px.choropleth(\n",
    "#     district_map,\n",
    "#     geojson=district_map.geometry,\n",
    "#     locations=district_map.index,\n",
    "#     color='Total_Crimes',\n",
    "#     hover_name='DISTRICT',  # or 'DISTRICT' based on your column\n",
    "#     projection='mercator',\n",
    "#     color_continuous_scale='Reds'\n",
    "# )\n",
    "\n",
    "# fig.update_geos(fitbounds=\"locations\", visible=False)\n",
    "# fig.update_layout(title_text=\"Total IPC Crimes by District (Interactive)\", margin={\"r\":0,\"t\":30,\"l\":0,\"b\":0})\n",
    "# fig.show()"
   ]
  },
  {
   "cell_type": "code",
   "execution_count": null,
   "id": "47d043e3",
   "metadata": {},
   "outputs": [],
   "source": [
    "import folium\n",
    "from folium.features import GeoJsonTooltip\n",
    "\n",
    "# Create base map\n",
    "m = folium.Map(location=[22.5, 80], zoom_start=5, tiles=\"cartodbpositron\")\n",
    "\n",
    "# Add choropleth\n",
    "folium.Choropleth(\n",
    "    geo_data=district_map,\n",
    "    data=district_map,\n",
    "    columns=[district_map.index, 'Total_Crimes'],\n",
    "    key_on='feature.id',\n",
    "    fill_color='Reds',\n",
    "    fill_opacity=0.7,\n",
    "    line_opacity=0.2,\n",
    "    legend_name='Total IPC Crimes'\n",
    ").add_to(m)\n",
    "\n",
    "# Add tooltip\n",
    "tooltip = GeoJsonTooltip(fields=['DISTRICT', 'Total_Crimes'], aliases=['District:', 'Total Crimes:'])\n",
    "folium.GeoJson(district_map, tooltip=tooltip).add_to(m)\n",
    "\n",
    "# Display map\n",
    "# Create base map\n",
    "m = folium.Map(location=[22.5, 80], zoom_start=5, tiles=\"cartodbpositron\")\n",
    "\n",
    "# Add choropleth\n",
    "folium.Choropleth(\n",
    "    geo_data=district_map,\n",
    "    data=district_map,\n",
    "    columns=[district_map.index, 'Total_Crimes'],\n",
    "    key_on='feature.id',\n",
    "    fill_color='Reds',\n",
    "    fill_opacity=0.7,\n",
    "    line_opacity=0.2,\n",
    "    legend_name='Total IPC Crimes'\n",
    ").add_to(m)\n",
    "\n",
    "# Add tooltip\n",
    "tooltip = GeoJsonTooltip(fields=['DISTRICT', 'Total_Crimes'], aliases=['District:', 'Total Crimes:'])\n",
    "folium.GeoJson(district_map, tooltip=tooltip).add_to(m)\n",
    "\n",
    "# Save the map\n",
    "m.save(\"/Users/ananthakrishnab/Desktop/Projects/Community Risk Profiling Using FIR Data/output/map_images/interactive_crime_map.html\")"
   ]
  },
  {
   "cell_type": "code",
   "execution_count": null,
   "id": "ce62ea51",
   "metadata": {},
   "outputs": [],
   "source": [
    "# Ensure names are standardized\n",
    "df_cleaned['DISTRICT'] = df_cleaned['DISTRICT'].str.upper().str.strip()\n",
    "df_cleaned['STATE/UT'] = df_cleaned['STATE/UT'].str.upper().str.strip()\n",
    "district_map['DISTRICT'] = district_map['DISTRICT'].str.upper().str.strip()\n",
    "district_map['STATE/UT'] = district_map['STATE/UT'].str.upper().str.strip()\n",
    "\n",
    "# Aggregate Heinous and Petty totals by district\n",
    "agg_crime_types = df_cleaned.groupby(['STATE/UT', 'DISTRICT'])[['HEINOUS_TOTAL', 'PETTY_TOTAL']].sum().reset_index()\n",
    "\n",
    "# Merge into district_map\n",
    "district_map = district_map.merge(\n",
    "    agg_crime_types,\n",
    "    on=['STATE/UT', 'DISTRICT'],\n",
    "    how='left'\n",
    ")\n",
    "\n",
    "# ✅ Confirm merge success\n",
    "print(district_map[['DISTRICT', 'HEINOUS_TOTAL', 'PETTY_TOTAL']].dropna().head())"
   ]
  },
  {
   "cell_type": "code",
   "execution_count": null,
   "id": "e6a6c007",
   "metadata": {},
   "outputs": [],
   "source": [
    "import plotly.express as px\n",
    "\n",
    "fig_heinous = px.choropleth(\n",
    "    district_map,\n",
    "    geojson=district_map.geometry.__geo_interface__,  # Important for proper serialization\n",
    "    locations=district_map.index,\n",
    "    color='HEINOUS_TOTAL',\n",
    "    hover_name='DISTRICT',\n",
    "    projection='mercator',\n",
    "    color_continuous_scale='OrRd',\n",
    "    labels={'HEINOUS_TOTAL': 'Heinous Crimes'}\n",
    ")\n",
    "\n",
    "fig_heinous.update_geos(fitbounds=\"locations\", visible=False)\n",
    "fig_heinous.update_layout(\n",
    "    title_text=\"🔴 Heinous Crimes by District (2001–2014)\",\n",
    "    margin={\"r\":0,\"t\":40,\"l\":0,\"b\":0}\n",
    ")\n",
    "fig_heinous.show()"
   ]
  },
  {
   "cell_type": "code",
   "execution_count": null,
   "id": "0b9307e2",
   "metadata": {},
   "outputs": [],
   "source": [
    "import plotly.express as px\n",
    "\n",
    "fig_petty = px.choropleth(\n",
    "    district_map,\n",
    "    geojson=district_map.geometry.__geo_interface__,\n",
    "    locations=district_map.index,\n",
    "    color='PETTY_TOTAL',\n",
    "    hover_name='DISTRICT',\n",
    "    projection='mercator',\n",
    "    color_continuous_scale='Blues',\n",
    "    labels={'PETTY_TOTAL': 'Petty Crimes'}\n",
    ")\n",
    "\n",
    "fig_petty.update_geos(fitbounds=\"locations\", visible=False)\n",
    "fig_petty.update_layout(\n",
    "    title_text=\"🔵 Petty Crimes by District (2001–2014)\",\n",
    "    margin={\"r\":0,\"t\":40,\"l\":0,\"b\":0}\n",
    ")\n",
    "fig_petty.show()"
   ]
  },
  {
   "cell_type": "code",
   "execution_count": null,
   "id": "7d9a46fd",
   "metadata": {},
   "outputs": [],
   "source": [
    "# Standardize names again just in case\n",
    "df_cleaned['STATE/UT'] = df_cleaned['STATE/UT'].str.upper()\n",
    "district_map['STATE/UT'] = district_map['STATE/UT'].str.upper()\n",
    "\n",
    "# Filter to only Uttar Pradesh\n",
    "df_up = df_cleaned[df_cleaned['STATE/UT'] == 'UTTAR PRADESH']\n",
    "district_map_up = district_map[district_map['STATE/UT'] == 'UTTAR PRADESH'].copy()"
   ]
  },
  {
   "cell_type": "code",
   "execution_count": null,
   "id": "caaafce8",
   "metadata": {},
   "outputs": [],
   "source": [
    "agg_crime_types_up = df_up.groupby(['STATE/UT', 'DISTRICT'])[['HEINOUS_TOTAL', 'PETTY_TOTAL']].sum().reset_index()\n",
    "\n",
    "# Merge into UP map\n",
    "# Merge into UP map (with suffixes handled)\n",
    "district_map_up = district_map_up.merge(\n",
    "    agg_crime_types_up,\n",
    "    on=['STATE/UT', 'DISTRICT'],\n",
    "    how='left',\n",
    "    suffixes=('', '_agg')\n",
    ")\n",
    "\n",
    "# Rename the correct columns for clarity\n",
    "district_map_up['HEINOUS_TOTAL'] = district_map_up['HEINOUS_TOTAL_agg']\n",
    "district_map_up['PETTY_TOTAL'] = district_map_up['PETTY_TOTAL_agg']\n",
    "\n",
    "# Drop old if needed\n",
    "district_map_up = district_map_up.drop(columns=['HEINOUS_TOTAL_agg', 'PETTY_TOTAL_agg'], errors='ignore')"
   ]
  },
  {
   "cell_type": "code",
   "execution_count": null,
   "id": "435ac4a2",
   "metadata": {},
   "outputs": [],
   "source": [
    "fig_heinous_up = px.choropleth(\n",
    "    district_map_up,\n",
    "    geojson=district_map_up.geometry.__geo_interface__,\n",
    "    locations=district_map_up.index,\n",
    "    color='HEINOUS_TOTAL',\n",
    "    hover_name='DISTRICT',\n",
    "    projection='mercator',\n",
    "    color_continuous_scale='OrRd',\n",
    "    labels={'HEINOUS_TOTAL': 'Heinous Crimes'}\n",
    ")\n",
    "\n",
    "fig_heinous_up.update_geos(fitbounds=\"locations\", visible=False)\n",
    "fig_heinous_up.update_layout(\n",
    "    title_text=\"🔴 Heinous Crimes by District in Uttar Pradesh (2001–2014)\",\n",
    "    margin={\"r\": 0, \"t\": 40, \"l\": 0, \"b\": 0}\n",
    ")\n",
    "fig_heinous_up.show()"
   ]
  },
  {
   "cell_type": "code",
   "execution_count": null,
   "id": "b7a9f30c",
   "metadata": {},
   "outputs": [],
   "source": [
    "# Filter GeoDataFrame for Uttar Pradesh\n",
    "up_geo = district_geo[district_geo['NAME_1'].str.upper().str.strip() == 'UTTAR PRADESH']\n",
    "\n",
    "# Clean crime_totals to match UP districts only\n",
    "up_crime_totals = crime_totals[crime_totals['STATE/UT'].str.upper().str.strip() == 'UTTAR PRADESH']\n",
    "\n",
    "# Merge for UP-specific mapping\n",
    "up_map = up_geo.merge(up_crime_totals, on='DISTRICT', how='left')"
   ]
  },
  {
   "cell_type": "code",
   "execution_count": null,
   "id": "3b4fedfe",
   "metadata": {},
   "outputs": [],
   "source": [
    "# IPC Crimes by District in UP\n",
    "\n",
    "fig_up = px.choropleth(\n",
    "    up_map,\n",
    "    geojson=up_map.geometry,\n",
    "    locations=up_map.index,\n",
    "    color='Total_Crimes',\n",
    "    hover_name='DISTRICT',\n",
    "    projection='mercator',\n",
    "    color_continuous_scale='OrRd'\n",
    ")\n",
    "\n",
    "fig_up.update_geos(fitbounds=\"locations\", visible=False)\n",
    "fig_up.update_layout(title_text=\"IPC Crimes by District in Uttar Pradesh\", margin={\"r\":0,\"t\":30,\"l\":0,\"b\":0})\n",
    "fig_up.show()"
   ]
  },
  {
   "cell_type": "code",
   "execution_count": null,
   "id": "47b00cfe",
   "metadata": {},
   "outputs": [],
   "source": [
    "import folium\n",
    "from folium.features import GeoJsonTooltip\n",
    "\n",
    "# Reproject to projected CRS (Web Mercator)\n",
    "up_geo_proj = up_geo.to_crs(epsg=3857)\n",
    "\n",
    "# Calculate safe centroid\n",
    "up_center = up_geo_proj.geometry.centroid.to_crs(epsg=4326).unary_union.centroid\n",
    "\n",
    "# Base map centered on Uttar Pradesh\n",
    "m_up = folium.Map(location=[up_center.y, up_center.x], zoom_start=6, tiles=\"cartodbpositron\")\n",
    "\n",
    "# Add choropleth layer\n",
    "folium.Choropleth(\n",
    "    geo_data=up_map,\n",
    "    data=up_map,\n",
    "    columns=[up_map.index, 'Total_Crimes'],\n",
    "    key_on='feature.id',\n",
    "    fill_color='YlOrRd',\n",
    "    fill_opacity=0.7,\n",
    "    line_opacity=0.2,\n",
    "    legend_name='Total IPC Crimes (Uttar Pradesh)'\n",
    ").add_to(m_up)\n",
    "\n",
    "# Add tooltips\n",
    "tooltip_up = GeoJsonTooltip(fields=['DISTRICT', 'Total_Crimes'], aliases=['District:', 'Crimes:'])\n",
    "folium.GeoJson(up_map, tooltip=tooltip_up).add_to(m_up)\n",
    "\n",
    "# Save or display\n",
    "m_up.save(\"/Users/ananthakrishnab/Desktop/Projects/Community Risk Profiling Using FIR Data/output/map_images/up_interactive_map.html\")"
   ]
  },
  {
   "cell_type": "code",
   "execution_count": null,
   "id": "40eaed3c",
   "metadata": {},
   "outputs": [],
   "source": []
  }
 ],
 "metadata": {
  "kernelspec": {
   "display_name": "Python 3",
   "language": "python",
   "name": "python3"
  },
  "language_info": {
   "codemirror_mode": {
    "name": "ipython",
    "version": 3
   },
   "file_extension": ".py",
   "mimetype": "text/x-python",
   "name": "python",
   "nbconvert_exporter": "python",
   "pygments_lexer": "ipython3",
   "version": "3.11.11"
  }
 },
 "nbformat": 4,
 "nbformat_minor": 5
}
