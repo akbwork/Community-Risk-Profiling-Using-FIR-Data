{
 "cells": [
  {
   "cell_type": "markdown",
   "id": "70bb97f4",
   "metadata": {},
   "source": [
    "# Exploratory Data Analysis: Victim and Accused Demographics\n",
    "- Victim/accused characteristics"
   ]
  },
  {
   "cell_type": "code",
   "execution_count": null,
   "id": "aeefb4b3",
   "metadata": {
    "vscode": {
     "languageId": "plaintext"
    }
   },
   "outputs": [],
   "source": []
  },
  {
   "cell_type": "markdown",
   "id": "276977d1",
   "metadata": {},
   "source": []
  }
 ],
 "metadata": {
  "language_info": {
   "name": "python"
  }
 },
 "nbformat": 4,
 "nbformat_minor": 5
}
