{
 "cells": [
  {
   "cell_type": "markdown",
   "id": "8918649d",
   "metadata": {},
   "source": [
    "# Overview of EDA on Police and Court Data\n",
    "\n",
    "- Arrests, trials, court outcomes"
   ]
  },
  {
   "cell_type": "markdown",
   "id": "cc24b948",
   "metadata": {},
   "source": []
  }
 ],
 "metadata": {
  "language_info": {
   "name": "python"
  }
 },
 "nbformat": 4,
 "nbformat_minor": 5
}
